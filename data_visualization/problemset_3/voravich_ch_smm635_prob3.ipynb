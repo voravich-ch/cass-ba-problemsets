{
 "cells": [
  {
   "cell_type": "markdown",
   "metadata": {},
   "source": [
    "# Problem Set 3\n",
    "\n",
    "**Context:** Consider the dataset ['Impact of COVID-19 on worldwide aviation'](https://zenodo.org/record/4088202#.X5NaZXVKgio),\n",
    "which concerns the impact of global pandemic on the airline industry.\n",
    "\n",
    "**Task**: Create **ONE** Matplotlib figure that illustrates the effect of the global pandemic on the airline industry. There are no constraints about the dimensions to include in the figure ― in other words, students are free to emphasize the aspects they find more interesting. However, the plot(s) included in the Matplotlib figure(s) must include the temporal dimension.\n",
    "\n",
    "**Submission**: Submit your solution via email to simone.santoni.1@city.ac.uk.\n",
    "Late submissions (> October 28, 2020) may not be considered for the in-class\n",
    "presentations.\n"
   ]
  },
  {
   "cell_type": "markdown",
   "metadata": {},
   "source": [
    "# Description of the dataset\n",
    "\n",
    "One file per month is provided as a csv file with the following features:\n",
    "\n",
    "- callsign: the identifier of the flight displayed on ATC screens (usually the first three letters are reserved for an airline: AFR for Air France, DLH for Lufthansa, etc.)\n",
    "- number: the commercial number of the flight, when available (the matching with the callsign comes from public open API)\n",
    "- icao24: the transponder unique identification number;\n",
    "- registration: the aircraft tail number (when available);\n",
    "- typecode: the aircraft model type (when available);\n",
    "- origin: a four letter code for the origin airport of the flight (when available);\n",
    "- destination: a four letter code for the destination airport of the flight (when available);\n",
    "- firstseen: the UTC timestamp of the first message received by the OpenSky Network;\n",
    "- lastseen: the UTC timestamp of the last message received by the OpenSky Network;\n",
    "- day: the UTC day of the last message received by the OpenSky Network;\n",
    "- latitude_1, longitude_1, altitude_1: the first detected position of the aircraft;\n",
    "- latitude_2, longitude_2, altitude_2: the last detected position of the aircraft.\n",
    "\n",
    "## Credit \n",
    "\n",
    "If you use this dataset, please cite the original OpenSky paper:\n",
    "\n",
    "Matthias Schäfer, Martin Strohmeier, Vincent Lenders, Ivan Martinovic and Matthias Wilhelm.\n",
    "\"Bringing Up OpenSky: A Large-scale ADS-B Sensor Network for Research\".\n",
    "In Proceedings of the 13th IEEE/ACM International Symposium on Information Processing in Sensor Networks (IPSN), pages 83-94, April 2014.\n",
    "\n",
    "and the traffic library used to derive the data:\n",
    "\n",
    "Xavier Olive.\n",
    "\"traffic, a toolbox for processing and analysing air traffic data.\"\n",
    "Journal of Open Source Software 4(39), July 2019.\n"
   ]
  },
  {
   "cell_type": "markdown",
   "metadata": {},
   "source": [
    "# Tasks\n",
    "\n",
    "Create **ONE** Matplotlib figure that illustrates the effect of the global pandemic on the airline industry. There are no constraints about the dimensions to include in the figure ― in other words, students are free to emphasize the aspects they find more interesting. However, the plot(s) included in the Matplotlib figure(s) must include the temporal dimension."
   ]
  },
  {
   "cell_type": "markdown",
   "metadata": {},
   "source": [
    "# Import relevant libraries"
   ]
  },
  {
   "cell_type": "code",
   "execution_count": 1,
   "metadata": {
    "ExecuteTime": {
     "end_time": "2020-10-27T23:53:50.142390Z",
     "start_time": "2020-10-27T23:53:49.524985Z"
    }
   },
   "outputs": [],
   "source": [
    "import os\n",
    "import glob\n",
    "import numpy as np\n",
    "import pandas as pd\n",
    "import matplotlib.pyplot as plt\n",
    "from matplotlib import image\n",
    "from matplotlib.offsetbox import OffsetImage, AnnotationBbox"
   ]
  },
  {
   "cell_type": "markdown",
   "metadata": {},
   "source": [
    "# Import dataset\n",
    "Datasets includes flight data from July to September in 2019 and 2020 "
   ]
  },
  {
   "cell_type": "code",
   "execution_count": 2,
   "metadata": {
    "ExecuteTime": {
     "end_time": "2020-10-27T23:53:50.150153Z",
     "start_time": "2020-10-27T23:53:50.143793Z"
    }
   },
   "outputs": [],
   "source": [
    "# get datasets folder path\n",
    "base_path = os.path.join(os.getcwd(), 'datasets')\n",
    "data_2019_path = os.path.join(base_path, '2019')\n",
    "data_2020_path =os.path.join(base_path, '2020')\n",
    "\n",
    "# get datasets path\n",
    "files_2019_path = glob.glob(os.path.join(data_2019_path, '*.csv'))\n",
    "files_2020_path = glob.glob(os.path.join(data_2020_path, '*.csv'))"
   ]
  },
  {
   "cell_type": "code",
   "execution_count": 3,
   "metadata": {
    "ExecuteTime": {
     "end_time": "2020-10-27T23:55:14.235170Z",
     "start_time": "2020-10-27T23:53:50.152194Z"
    }
   },
   "outputs": [],
   "source": [
    "# import data\n",
    "data_2019 = pd.concat(pd.read_csv(file) for file in files_2019_path)\n",
    "data_2020 = pd.concat(pd.read_csv(file) for file in files_2020_path)"
   ]
  },
  {
   "cell_type": "markdown",
   "metadata": {},
   "source": [
    "# Data Exploration and Data Preprocessing"
   ]
  },
  {
   "cell_type": "code",
   "execution_count": 4,
   "metadata": {
    "ExecuteTime": {
     "end_time": "2020-10-27T23:55:14.267598Z",
     "start_time": "2020-10-27T23:55:14.236831Z"
    }
   },
   "outputs": [
    {
     "data": {
      "text/html": [
       "<div>\n",
       "<style scoped>\n",
       "    .dataframe tbody tr th:only-of-type {\n",
       "        vertical-align: middle;\n",
       "    }\n",
       "\n",
       "    .dataframe tbody tr th {\n",
       "        vertical-align: top;\n",
       "    }\n",
       "\n",
       "    .dataframe thead th {\n",
       "        text-align: right;\n",
       "    }\n",
       "</style>\n",
       "<table border=\"1\" class=\"dataframe\">\n",
       "  <thead>\n",
       "    <tr style=\"text-align: right;\">\n",
       "      <th></th>\n",
       "      <th>callsign</th>\n",
       "      <th>number</th>\n",
       "      <th>icao24</th>\n",
       "      <th>registration</th>\n",
       "      <th>typecode</th>\n",
       "      <th>origin</th>\n",
       "      <th>destination</th>\n",
       "      <th>firstseen</th>\n",
       "      <th>lastseen</th>\n",
       "      <th>day</th>\n",
       "      <th>latitude_1</th>\n",
       "      <th>longitude_1</th>\n",
       "      <th>altitude_1</th>\n",
       "      <th>latitude_2</th>\n",
       "      <th>longitude_2</th>\n",
       "      <th>altitude_2</th>\n",
       "    </tr>\n",
       "  </thead>\n",
       "  <tbody>\n",
       "    <tr>\n",
       "      <th>0</th>\n",
       "      <td>ANA106</td>\n",
       "      <td>NaN</td>\n",
       "      <td>867f82</td>\n",
       "      <td>NaN</td>\n",
       "      <td>NaN</td>\n",
       "      <td>KORD</td>\n",
       "      <td>KLAX</td>\n",
       "      <td>2019-06-30 00:03:35+00:00</td>\n",
       "      <td>2019-07-01 00:13:28+00:00</td>\n",
       "      <td>2019-07-01 00:00:00+00:00</td>\n",
       "      <td>41.979309</td>\n",
       "      <td>-87.824083</td>\n",
       "      <td>609.6</td>\n",
       "      <td>33.953018</td>\n",
       "      <td>-118.393324</td>\n",
       "      <td>76.20</td>\n",
       "    </tr>\n",
       "    <tr>\n",
       "      <th>1</th>\n",
       "      <td>KQA204</td>\n",
       "      <td>KQ204</td>\n",
       "      <td>04c147</td>\n",
       "      <td>5Y-CYA</td>\n",
       "      <td>B738</td>\n",
       "      <td>FAOR</td>\n",
       "      <td>VABB</td>\n",
       "      <td>2019-06-30 00:45:42+00:00</td>\n",
       "      <td>2019-07-01 00:42:47+00:00</td>\n",
       "      <td>2019-07-01 00:00:00+00:00</td>\n",
       "      <td>-26.109614</td>\n",
       "      <td>28.245638</td>\n",
       "      <td>1524.0</td>\n",
       "      <td>19.088745</td>\n",
       "      <td>72.869911</td>\n",
       "      <td>99.06</td>\n",
       "    </tr>\n",
       "    <tr>\n",
       "      <th>2</th>\n",
       "      <td>CES771</td>\n",
       "      <td>MU771</td>\n",
       "      <td>781602</td>\n",
       "      <td>NaN</td>\n",
       "      <td>NaN</td>\n",
       "      <td>YSSY</td>\n",
       "      <td>EHAM</td>\n",
       "      <td>2019-06-30 01:09:12+00:00</td>\n",
       "      <td>2019-07-01 04:09:59+00:00</td>\n",
       "      <td>2019-07-01 00:00:00+00:00</td>\n",
       "      <td>-33.956314</td>\n",
       "      <td>151.178601</td>\n",
       "      <td>0.0</td>\n",
       "      <td>52.316059</td>\n",
       "      <td>4.741402</td>\n",
       "      <td>NaN</td>\n",
       "    </tr>\n",
       "    <tr>\n",
       "      <th>3</th>\n",
       "      <td>CSN465</td>\n",
       "      <td>NaN</td>\n",
       "      <td>7805aa</td>\n",
       "      <td>B-2075</td>\n",
       "      <td>B77L</td>\n",
       "      <td>KLAX</td>\n",
       "      <td>EGSS</td>\n",
       "      <td>2019-06-30 01:43:14+00:00</td>\n",
       "      <td>2019-07-01 06:26:53+00:00</td>\n",
       "      <td>2019-07-01 00:00:00+00:00</td>\n",
       "      <td>33.935715</td>\n",
       "      <td>-118.421014</td>\n",
       "      <td>0.0</td>\n",
       "      <td>51.900392</td>\n",
       "      <td>0.257943</td>\n",
       "      <td>114.30</td>\n",
       "    </tr>\n",
       "    <tr>\n",
       "      <th>4</th>\n",
       "      <td>CHH7921</td>\n",
       "      <td>NaN</td>\n",
       "      <td>780ff1</td>\n",
       "      <td>B-7880</td>\n",
       "      <td>B789</td>\n",
       "      <td>NaN</td>\n",
       "      <td>EBMB</td>\n",
       "      <td>2019-06-30 01:53:25+00:00</td>\n",
       "      <td>2019-07-01 05:40:58+00:00</td>\n",
       "      <td>2019-07-01 00:00:00+00:00</td>\n",
       "      <td>29.960369</td>\n",
       "      <td>106.983984</td>\n",
       "      <td>3657.6</td>\n",
       "      <td>50.903412</td>\n",
       "      <td>4.542624</td>\n",
       "      <td>83.82</td>\n",
       "    </tr>\n",
       "    <tr>\n",
       "      <th>...</th>\n",
       "      <td>...</td>\n",
       "      <td>...</td>\n",
       "      <td>...</td>\n",
       "      <td>...</td>\n",
       "      <td>...</td>\n",
       "      <td>...</td>\n",
       "      <td>...</td>\n",
       "      <td>...</td>\n",
       "      <td>...</td>\n",
       "      <td>...</td>\n",
       "      <td>...</td>\n",
       "      <td>...</td>\n",
       "      <td>...</td>\n",
       "      <td>...</td>\n",
       "      <td>...</td>\n",
       "      <td>...</td>\n",
       "    </tr>\n",
       "    <tr>\n",
       "      <th>2721738</th>\n",
       "      <td>N787WW</td>\n",
       "      <td>NaN</td>\n",
       "      <td>aaac90</td>\n",
       "      <td>N787WW</td>\n",
       "      <td>NaN</td>\n",
       "      <td>NaN</td>\n",
       "      <td>KDVT</td>\n",
       "      <td>2019-09-30 23:46:20+00:00</td>\n",
       "      <td>2019-09-30 23:57:51+00:00</td>\n",
       "      <td>2019-09-30 00:00:00+00:00</td>\n",
       "      <td>33.846736</td>\n",
       "      <td>-112.158566</td>\n",
       "      <td>914.4</td>\n",
       "      <td>33.691205</td>\n",
       "      <td>-112.070446</td>\n",
       "      <td>601.98</td>\n",
       "    </tr>\n",
       "    <tr>\n",
       "      <th>2721739</th>\n",
       "      <td>LVN</td>\n",
       "      <td>NaN</td>\n",
       "      <td>7c3ab1</td>\n",
       "      <td>VH-LVN</td>\n",
       "      <td>C208</td>\n",
       "      <td>YWOL</td>\n",
       "      <td>YWOL</td>\n",
       "      <td>2019-09-30 23:48:33+00:00</td>\n",
       "      <td>2019-09-30 23:59:50+00:00</td>\n",
       "      <td>2019-09-30 00:00:00+00:00</td>\n",
       "      <td>-34.516995</td>\n",
       "      <td>150.823975</td>\n",
       "      <td>609.6</td>\n",
       "      <td>-34.509384</td>\n",
       "      <td>150.824404</td>\n",
       "      <td>670.56</td>\n",
       "    </tr>\n",
       "    <tr>\n",
       "      <th>2721740</th>\n",
       "      <td>N972NC</td>\n",
       "      <td>NaN</td>\n",
       "      <td>ad8c42</td>\n",
       "      <td>N972NC</td>\n",
       "      <td>NaN</td>\n",
       "      <td>KIXD</td>\n",
       "      <td>68KS</td>\n",
       "      <td>2019-09-30 23:48:44+00:00</td>\n",
       "      <td>2019-09-30 23:59:47+00:00</td>\n",
       "      <td>2019-09-30 00:00:00+00:00</td>\n",
       "      <td>38.799940</td>\n",
       "      <td>-94.886353</td>\n",
       "      <td>609.6</td>\n",
       "      <td>38.585800</td>\n",
       "      <td>-94.846558</td>\n",
       "      <td>1127.76</td>\n",
       "    </tr>\n",
       "    <tr>\n",
       "      <th>2721741</th>\n",
       "      <td>N5457J</td>\n",
       "      <td>NaN</td>\n",
       "      <td>a6edd5</td>\n",
       "      <td>N5457J</td>\n",
       "      <td>NaN</td>\n",
       "      <td>KBWC</td>\n",
       "      <td>KIPL</td>\n",
       "      <td>2019-09-30 23:48:49+00:00</td>\n",
       "      <td>2019-09-30 23:59:14+00:00</td>\n",
       "      <td>2019-09-30 00:00:00+00:00</td>\n",
       "      <td>32.975231</td>\n",
       "      <td>-115.483797</td>\n",
       "      <td>304.8</td>\n",
       "      <td>32.856895</td>\n",
       "      <td>-115.576228</td>\n",
       "      <td>297.18</td>\n",
       "    </tr>\n",
       "    <tr>\n",
       "      <th>2721742</th>\n",
       "      <td>N62854</td>\n",
       "      <td>NaN</td>\n",
       "      <td>a83719</td>\n",
       "      <td>N62854</td>\n",
       "      <td>NaN</td>\n",
       "      <td>8IN9</td>\n",
       "      <td>KUMP</td>\n",
       "      <td>2019-09-30 23:48:56+00:00</td>\n",
       "      <td>2019-09-30 23:59:40+00:00</td>\n",
       "      <td>2019-09-30 00:00:00+00:00</td>\n",
       "      <td>39.728210</td>\n",
       "      <td>-86.575430</td>\n",
       "      <td>304.8</td>\n",
       "      <td>39.942705</td>\n",
       "      <td>-86.030253</td>\n",
       "      <td>518.16</td>\n",
       "    </tr>\n",
       "  </tbody>\n",
       "</table>\n",
       "<p>8610219 rows × 16 columns</p>\n",
       "</div>"
      ],
      "text/plain": [
       "        callsign number  icao24 registration typecode origin destination  \\\n",
       "0         ANA106    NaN  867f82          NaN      NaN   KORD        KLAX   \n",
       "1         KQA204  KQ204  04c147       5Y-CYA     B738   FAOR        VABB   \n",
       "2         CES771  MU771  781602          NaN      NaN   YSSY        EHAM   \n",
       "3         CSN465    NaN  7805aa       B-2075     B77L   KLAX        EGSS   \n",
       "4        CHH7921    NaN  780ff1       B-7880     B789    NaN        EBMB   \n",
       "...          ...    ...     ...          ...      ...    ...         ...   \n",
       "2721738   N787WW    NaN  aaac90       N787WW      NaN    NaN        KDVT   \n",
       "2721739      LVN    NaN  7c3ab1       VH-LVN     C208   YWOL        YWOL   \n",
       "2721740   N972NC    NaN  ad8c42       N972NC      NaN   KIXD        68KS   \n",
       "2721741   N5457J    NaN  a6edd5       N5457J      NaN   KBWC        KIPL   \n",
       "2721742   N62854    NaN  a83719       N62854      NaN   8IN9        KUMP   \n",
       "\n",
       "                         firstseen                   lastseen  \\\n",
       "0        2019-06-30 00:03:35+00:00  2019-07-01 00:13:28+00:00   \n",
       "1        2019-06-30 00:45:42+00:00  2019-07-01 00:42:47+00:00   \n",
       "2        2019-06-30 01:09:12+00:00  2019-07-01 04:09:59+00:00   \n",
       "3        2019-06-30 01:43:14+00:00  2019-07-01 06:26:53+00:00   \n",
       "4        2019-06-30 01:53:25+00:00  2019-07-01 05:40:58+00:00   \n",
       "...                            ...                        ...   \n",
       "2721738  2019-09-30 23:46:20+00:00  2019-09-30 23:57:51+00:00   \n",
       "2721739  2019-09-30 23:48:33+00:00  2019-09-30 23:59:50+00:00   \n",
       "2721740  2019-09-30 23:48:44+00:00  2019-09-30 23:59:47+00:00   \n",
       "2721741  2019-09-30 23:48:49+00:00  2019-09-30 23:59:14+00:00   \n",
       "2721742  2019-09-30 23:48:56+00:00  2019-09-30 23:59:40+00:00   \n",
       "\n",
       "                               day  latitude_1  longitude_1  altitude_1  \\\n",
       "0        2019-07-01 00:00:00+00:00   41.979309   -87.824083       609.6   \n",
       "1        2019-07-01 00:00:00+00:00  -26.109614    28.245638      1524.0   \n",
       "2        2019-07-01 00:00:00+00:00  -33.956314   151.178601         0.0   \n",
       "3        2019-07-01 00:00:00+00:00   33.935715  -118.421014         0.0   \n",
       "4        2019-07-01 00:00:00+00:00   29.960369   106.983984      3657.6   \n",
       "...                            ...         ...          ...         ...   \n",
       "2721738  2019-09-30 00:00:00+00:00   33.846736  -112.158566       914.4   \n",
       "2721739  2019-09-30 00:00:00+00:00  -34.516995   150.823975       609.6   \n",
       "2721740  2019-09-30 00:00:00+00:00   38.799940   -94.886353       609.6   \n",
       "2721741  2019-09-30 00:00:00+00:00   32.975231  -115.483797       304.8   \n",
       "2721742  2019-09-30 00:00:00+00:00   39.728210   -86.575430       304.8   \n",
       "\n",
       "         latitude_2  longitude_2  altitude_2  \n",
       "0         33.953018  -118.393324       76.20  \n",
       "1         19.088745    72.869911       99.06  \n",
       "2         52.316059     4.741402         NaN  \n",
       "3         51.900392     0.257943      114.30  \n",
       "4         50.903412     4.542624       83.82  \n",
       "...             ...          ...         ...  \n",
       "2721738   33.691205  -112.070446      601.98  \n",
       "2721739  -34.509384   150.824404      670.56  \n",
       "2721740   38.585800   -94.846558     1127.76  \n",
       "2721741   32.856895  -115.576228      297.18  \n",
       "2721742   39.942705   -86.030253      518.16  \n",
       "\n",
       "[8610219 rows x 16 columns]"
      ]
     },
     "execution_count": 4,
     "metadata": {},
     "output_type": "execute_result"
    }
   ],
   "source": [
    "# explore data structure\n",
    "data_2019"
   ]
  },
  {
   "cell_type": "code",
   "execution_count": 5,
   "metadata": {
    "ExecuteTime": {
     "end_time": "2020-10-27T23:55:14.279672Z",
     "start_time": "2020-10-27T23:55:14.272513Z"
    }
   },
   "outputs": [],
   "source": [
    "# reset index\n",
    "data_2019.reset_index(drop = True, inplace = True)\n",
    "data_2020.reset_index(drop = True, inplace = True)"
   ]
  },
  {
   "cell_type": "code",
   "execution_count": 6,
   "metadata": {
    "ExecuteTime": {
     "end_time": "2020-10-27T23:55:16.059317Z",
     "start_time": "2020-10-27T23:55:14.282091Z"
    }
   },
   "outputs": [
    {
     "name": "stdout",
     "output_type": "stream",
     "text": [
      "0\n",
      "0\n"
     ]
    }
   ],
   "source": [
    "print(data_2019['callsign'].isnull().sum())\n",
    "print(data_2020['callsign'].isnull().sum())"
   ]
  },
  {
   "cell_type": "code",
   "execution_count": 7,
   "metadata": {
    "ExecuteTime": {
     "end_time": "2020-10-27T23:55:17.765906Z",
     "start_time": "2020-10-27T23:55:16.060699Z"
    }
   },
   "outputs": [
    {
     "name": "stdout",
     "output_type": "stream",
     "text": [
      "0\n",
      "0\n"
     ]
    }
   ],
   "source": [
    "print(data_2019['day'].isnull().sum())\n",
    "print(data_2020['day'].isnull().sum())"
   ]
  },
  {
   "cell_type": "code",
   "execution_count": 8,
   "metadata": {
    "ExecuteTime": {
     "end_time": "2020-10-27T23:55:18.781918Z",
     "start_time": "2020-10-27T23:55:17.769092Z"
    }
   },
   "outputs": [
    {
     "data": {
      "text/plain": [
       "1991677"
      ]
     },
     "execution_count": 8,
     "metadata": {},
     "output_type": "execute_result"
    }
   ],
   "source": [
    "data_2019['destination'].isnull().sum()"
   ]
  },
  {
   "cell_type": "code",
   "execution_count": 9,
   "metadata": {
    "ExecuteTime": {
     "end_time": "2020-10-27T23:55:19.803295Z",
     "start_time": "2020-10-27T23:55:18.783839Z"
    }
   },
   "outputs": [],
   "source": [
    "# subset only necessary columns\n",
    "data_2019 = data_2019[['callsign', 'day']]\n",
    "data_2020 = data_2020[['callsign', 'day']]"
   ]
  },
  {
   "cell_type": "markdown",
   "metadata": {},
   "source": [
    "## The analysis will only focus on All Nippon Airways(ANA) where `signcode` should starts with 'ANA'"
   ]
  },
  {
   "cell_type": "code",
   "execution_count": 10,
   "metadata": {
    "ExecuteTime": {
     "end_time": "2020-10-27T23:55:32.342967Z",
     "start_time": "2020-10-27T23:55:19.804699Z"
    }
   },
   "outputs": [],
   "source": [
    "data_2019 = data_2019[data_2019['callsign'].str.contains('ANA')]\n",
    "data_2020 = data_2020[data_2020['callsign'].str.contains('ANA')]"
   ]
  },
  {
   "cell_type": "markdown",
   "metadata": {},
   "source": [
    "## Transform `day` to datetime format and decompose the data"
   ]
  },
  {
   "cell_type": "code",
   "execution_count": 11,
   "metadata": {
    "ExecuteTime": {
     "end_time": "2020-10-27T23:55:34.326750Z",
     "start_time": "2020-10-27T23:55:32.344576Z"
    }
   },
   "outputs": [
    {
     "data": {
      "text/html": [
       "<div>\n",
       "<style scoped>\n",
       "    .dataframe tbody tr th:only-of-type {\n",
       "        vertical-align: middle;\n",
       "    }\n",
       "\n",
       "    .dataframe tbody tr th {\n",
       "        vertical-align: top;\n",
       "    }\n",
       "\n",
       "    .dataframe thead th {\n",
       "        text-align: right;\n",
       "    }\n",
       "</style>\n",
       "<table border=\"1\" class=\"dataframe\">\n",
       "  <thead>\n",
       "    <tr style=\"text-align: right;\">\n",
       "      <th></th>\n",
       "      <th>callsign</th>\n",
       "      <th>day</th>\n",
       "      <th>year</th>\n",
       "      <th>month</th>\n",
       "    </tr>\n",
       "  </thead>\n",
       "  <tbody>\n",
       "    <tr>\n",
       "      <th>0</th>\n",
       "      <td>ANA106</td>\n",
       "      <td>2019-07-01</td>\n",
       "      <td>2019</td>\n",
       "      <td>07</td>\n",
       "    </tr>\n",
       "    <tr>\n",
       "      <th>43</th>\n",
       "      <td>ANA223</td>\n",
       "      <td>2019-07-01</td>\n",
       "      <td>2019</td>\n",
       "      <td>07</td>\n",
       "    </tr>\n",
       "    <tr>\n",
       "      <th>64</th>\n",
       "      <td>ANA211</td>\n",
       "      <td>2019-07-01</td>\n",
       "      <td>2019</td>\n",
       "      <td>07</td>\n",
       "    </tr>\n",
       "    <tr>\n",
       "      <th>74</th>\n",
       "      <td>ANA215</td>\n",
       "      <td>2019-07-01</td>\n",
       "      <td>2019</td>\n",
       "      <td>07</td>\n",
       "    </tr>\n",
       "    <tr>\n",
       "      <th>405</th>\n",
       "      <td>ANA10</td>\n",
       "      <td>2019-07-01</td>\n",
       "      <td>2019</td>\n",
       "      <td>07</td>\n",
       "    </tr>\n",
       "  </tbody>\n",
       "</table>\n",
       "</div>"
      ],
      "text/plain": [
       "    callsign         day  year month\n",
       "0     ANA106  2019-07-01  2019    07\n",
       "43    ANA223  2019-07-01  2019    07\n",
       "64    ANA211  2019-07-01  2019    07\n",
       "74    ANA215  2019-07-01  2019    07\n",
       "405    ANA10  2019-07-01  2019    07"
      ]
     },
     "execution_count": 11,
     "metadata": {},
     "output_type": "execute_result"
    }
   ],
   "source": [
    "date = pd.to_datetime(data_2019['day'])\n",
    "data_2019.loc[:, 'day'] = date.dt.strftime('%Y-%m-%d')\n",
    "data_2019.loc[:, 'year'] = date.dt.strftime('%Y')\n",
    "data_2019.loc[:, 'month'] = date.dt.strftime('%m')\n",
    "data_2019.head()"
   ]
  },
  {
   "cell_type": "code",
   "execution_count": 12,
   "metadata": {
    "ExecuteTime": {
     "end_time": "2020-10-27T23:55:35.448287Z",
     "start_time": "2020-10-27T23:55:34.329753Z"
    }
   },
   "outputs": [
    {
     "data": {
      "text/html": [
       "<div>\n",
       "<style scoped>\n",
       "    .dataframe tbody tr th:only-of-type {\n",
       "        vertical-align: middle;\n",
       "    }\n",
       "\n",
       "    .dataframe tbody tr th {\n",
       "        vertical-align: top;\n",
       "    }\n",
       "\n",
       "    .dataframe thead th {\n",
       "        text-align: right;\n",
       "    }\n",
       "</style>\n",
       "<table border=\"1\" class=\"dataframe\">\n",
       "  <thead>\n",
       "    <tr style=\"text-align: right;\">\n",
       "      <th></th>\n",
       "      <th>callsign</th>\n",
       "      <th>day</th>\n",
       "      <th>year</th>\n",
       "      <th>month</th>\n",
       "    </tr>\n",
       "  </thead>\n",
       "  <tbody>\n",
       "    <tr>\n",
       "      <th>80</th>\n",
       "      <td>ANA8401</td>\n",
       "      <td>2020-07-01</td>\n",
       "      <td>2020</td>\n",
       "      <td>07</td>\n",
       "    </tr>\n",
       "    <tr>\n",
       "      <th>547</th>\n",
       "      <td>ANA9101</td>\n",
       "      <td>2020-07-01</td>\n",
       "      <td>2020</td>\n",
       "      <td>07</td>\n",
       "    </tr>\n",
       "    <tr>\n",
       "      <th>1119</th>\n",
       "      <td>ANA241</td>\n",
       "      <td>2020-07-01</td>\n",
       "      <td>2020</td>\n",
       "      <td>07</td>\n",
       "    </tr>\n",
       "    <tr>\n",
       "      <th>1414</th>\n",
       "      <td>ANA242</td>\n",
       "      <td>2020-07-01</td>\n",
       "      <td>2020</td>\n",
       "      <td>07</td>\n",
       "    </tr>\n",
       "    <tr>\n",
       "      <th>1460</th>\n",
       "      <td>ANA791</td>\n",
       "      <td>2020-07-01</td>\n",
       "      <td>2020</td>\n",
       "      <td>07</td>\n",
       "    </tr>\n",
       "  </tbody>\n",
       "</table>\n",
       "</div>"
      ],
      "text/plain": [
       "     callsign         day  year month\n",
       "80    ANA8401  2020-07-01  2020    07\n",
       "547   ANA9101  2020-07-01  2020    07\n",
       "1119   ANA241  2020-07-01  2020    07\n",
       "1414   ANA242  2020-07-01  2020    07\n",
       "1460   ANA791  2020-07-01  2020    07"
      ]
     },
     "execution_count": 12,
     "metadata": {},
     "output_type": "execute_result"
    }
   ],
   "source": [
    "date = pd.to_datetime(data_2020['day'])\n",
    "data_2020.loc[:, 'day'] = date.dt.strftime('%Y-%m-%d')\n",
    "data_2020.loc[:, 'year'] = date.dt.strftime('%Y')\n",
    "data_2020.loc[:, 'month'] = date.dt.strftime('%m')\n",
    "data_2020.head()"
   ]
  },
  {
   "cell_type": "markdown",
   "metadata": {},
   "source": [
    "## Get frequency data"
   ]
  },
  {
   "cell_type": "code",
   "execution_count": 13,
   "metadata": {
    "ExecuteTime": {
     "end_time": "2020-10-27T23:55:35.490061Z",
     "start_time": "2020-10-27T23:55:35.450365Z"
    }
   },
   "outputs": [
    {
     "data": {
      "text/html": [
       "<div>\n",
       "<style scoped>\n",
       "    .dataframe tbody tr th:only-of-type {\n",
       "        vertical-align: middle;\n",
       "    }\n",
       "\n",
       "    .dataframe tbody tr th {\n",
       "        vertical-align: top;\n",
       "    }\n",
       "\n",
       "    .dataframe thead th {\n",
       "        text-align: right;\n",
       "    }\n",
       "</style>\n",
       "<table border=\"1\" class=\"dataframe\">\n",
       "  <thead>\n",
       "    <tr style=\"text-align: right;\">\n",
       "      <th></th>\n",
       "      <th></th>\n",
       "      <th>callsign</th>\n",
       "    </tr>\n",
       "    <tr>\n",
       "      <th>year</th>\n",
       "      <th>month</th>\n",
       "      <th></th>\n",
       "    </tr>\n",
       "  </thead>\n",
       "  <tbody>\n",
       "    <tr>\n",
       "      <th rowspan=\"3\" valign=\"top\">2019</th>\n",
       "      <th>07</th>\n",
       "      <td>18376</td>\n",
       "    </tr>\n",
       "    <tr>\n",
       "      <th>08</th>\n",
       "      <td>18594</td>\n",
       "    </tr>\n",
       "    <tr>\n",
       "      <th>09</th>\n",
       "      <td>16820</td>\n",
       "    </tr>\n",
       "  </tbody>\n",
       "</table>\n",
       "</div>"
      ],
      "text/plain": [
       "            callsign\n",
       "year month          \n",
       "2019 07        18376\n",
       "     08        18594\n",
       "     09        16820"
      ]
     },
     "execution_count": 13,
     "metadata": {},
     "output_type": "execute_result"
    }
   ],
   "source": [
    "df_2019 = pd.DataFrame(data_2019.groupby(['year', 'month'])['callsign'].agg('count'))\n",
    "df_2019"
   ]
  },
  {
   "cell_type": "code",
   "execution_count": 14,
   "metadata": {
    "ExecuteTime": {
     "end_time": "2020-10-27T23:55:35.522454Z",
     "start_time": "2020-10-27T23:55:35.491849Z"
    }
   },
   "outputs": [
    {
     "data": {
      "text/html": [
       "<div>\n",
       "<style scoped>\n",
       "    .dataframe tbody tr th:only-of-type {\n",
       "        vertical-align: middle;\n",
       "    }\n",
       "\n",
       "    .dataframe tbody tr th {\n",
       "        vertical-align: top;\n",
       "    }\n",
       "\n",
       "    .dataframe thead th {\n",
       "        text-align: right;\n",
       "    }\n",
       "</style>\n",
       "<table border=\"1\" class=\"dataframe\">\n",
       "  <thead>\n",
       "    <tr style=\"text-align: right;\">\n",
       "      <th></th>\n",
       "      <th></th>\n",
       "      <th>callsign</th>\n",
       "    </tr>\n",
       "    <tr>\n",
       "      <th>year</th>\n",
       "      <th>month</th>\n",
       "      <th></th>\n",
       "    </tr>\n",
       "  </thead>\n",
       "  <tbody>\n",
       "    <tr>\n",
       "      <th rowspan=\"3\" valign=\"top\">2020</th>\n",
       "      <th>07</th>\n",
       "      <td>9399</td>\n",
       "    </tr>\n",
       "    <tr>\n",
       "      <th>08</th>\n",
       "      <td>14256</td>\n",
       "    </tr>\n",
       "    <tr>\n",
       "      <th>09</th>\n",
       "      <td>9744</td>\n",
       "    </tr>\n",
       "  </tbody>\n",
       "</table>\n",
       "</div>"
      ],
      "text/plain": [
       "            callsign\n",
       "year month          \n",
       "2020 07         9399\n",
       "     08        14256\n",
       "     09         9744"
      ]
     },
     "execution_count": 14,
     "metadata": {},
     "output_type": "execute_result"
    }
   ],
   "source": [
    "df_2020 = pd.DataFrame(data_2020.groupby(['year', 'month'])['callsign'].agg('count'))\n",
    "df_2020"
   ]
  },
  {
   "cell_type": "code",
   "execution_count": 15,
   "metadata": {
    "ExecuteTime": {
     "end_time": "2020-10-27T23:55:35.529041Z",
     "start_time": "2020-10-27T23:55:35.524471Z"
    }
   },
   "outputs": [],
   "source": [
    "# Some stats: percentage drop\n",
    "jul_drop = 100 - (df_2020.callsign[0] / df_2019.callsign[0] * 100)\n",
    "aug_drop = 100 - (df_2020.callsign[1] / df_2019.callsign[1] * 100)\n",
    "sep_drop = 100 - (df_2020.callsign[2] / df_2019.callsign[2] * 100)"
   ]
  },
  {
   "cell_type": "code",
   "execution_count": 16,
   "metadata": {
    "ExecuteTime": {
     "end_time": "2020-10-27T23:55:35.541472Z",
     "start_time": "2020-10-27T23:55:35.531964Z"
    }
   },
   "outputs": [],
   "source": [
    "# summary text\n",
    "sum_text = \" - July: {:.2f}%\\n - August: {:.2f}%\\n - September: {:.2f}%\".format(jul_drop, aug_drop, sep_drop)"
   ]
  },
  {
   "cell_type": "code",
   "execution_count": 17,
   "metadata": {
    "ExecuteTime": {
     "end_time": "2020-10-27T23:55:35.564478Z",
     "start_time": "2020-10-27T23:55:35.543344Z"
    }
   },
   "outputs": [],
   "source": [
    "ana_logo = image.imread('ana-vector-logo.png')"
   ]
  },
  {
   "cell_type": "markdown",
   "metadata": {},
   "source": [
    "# Visualization"
   ]
  },
  {
   "cell_type": "code",
   "execution_count": 18,
   "metadata": {
    "ExecuteTime": {
     "end_time": "2020-10-27T23:55:36.313998Z",
     "start_time": "2020-10-27T23:55:35.567078Z"
    }
   },
   "outputs": [
    {
     "name": "stderr",
     "output_type": "stream",
     "text": [
      "<ipython-input-18-9f8df2507949>:58: UserWarning: FixedFormatter should only be used together with FixedLocator\n",
      "  ax.set_xticklabels(tick_label, fontsize = 11)\n"
     ]
    },
    {
     "data": {
      "image/png": "[encoded data removed]",
      "text/plain": [
       "<Figure size 864x576 with 1 Axes>"
      ]
     },
     "metadata": {
      "needs_background": "light"
     },
     "output_type": "display_data"
    }
   ],
   "source": [
    "\"\"\" Setup \"\"\"\n",
    "font = {'fontname':'Helvetica'}\n",
    "\n",
    "fig = plt.figure(figsize = (12, 8))\n",
    "\n",
    "ax = fig.add_subplot(1, 1, 1)\n",
    "\n",
    "tick_label = ['July', 'August', 'September']\n",
    "label_loc = np.arange(len(tick_label))\n",
    "bar_width = 0.25\n",
    "\n",
    "bars_2019 = ax.bar(label_loc - bar_width / 2, height = df_2019['callsign'], width = bar_width, \n",
    "        color = 'royalblue', edgecolor = 'k', label = '2019')\n",
    "bars_2020 = ax.bar(label_loc + bar_width / 2, height = df_2020['callsign'], width = bar_width,\n",
    "        color = 'white', edgecolor = 'k', label = '2020')\n",
    "\n",
    "\n",
    "# label each bar by frequency\n",
    "for bar in bars_2019:\n",
    "    height = bar.get_height()\n",
    "    ax.annotate('{}'.format(height),\n",
    "                xy = (bar.get_x() + bar.get_width() / 2, height),\n",
    "                    xytext=(0, 4),  # raise the y-coordinate by 4 points\n",
    "                    textcoords=\"offset points\",\n",
    "                    ha='center', va='bottom', fontsize = 11)\n",
    "    \n",
    "# label each bar by frequency\n",
    "for bar in bars_2020:\n",
    "    height = bar.get_height()\n",
    "    ax.annotate('{}'.format(height),\n",
    "                xy = (bar.get_x() + bar.get_width() / 2, height),\n",
    "                    xytext=(0, 4),  # raise the y-coordinate by 4 points\n",
    "                    textcoords=\"offset points\",\n",
    "                    ha='center', va='bottom', fontsize = 11)\n",
    "    \n",
    "# add text box\n",
    "props = dict(boxstyle='round', facecolor='royalblue')\n",
    "\n",
    "# place a text box \n",
    "ax.text(0.8, 0.7, sum_text, transform=ax.transAxes, fontsize=14,\n",
    "        verticalalignment='top', bbox=props, color = 'w')\n",
    "\n",
    "# add textbox title\n",
    "ax.text(0.8, 0.76, \"Percentage Drop (%)\", transform=ax.transAxes, fontsize=14,\n",
    "        verticalalignment='top', color = 'k')\n",
    "\n",
    "# add ANA logo\n",
    "imagebox = OffsetImage(ana_logo, zoom=0.1)\n",
    "ab = AnnotationBbox(imagebox, xy = (2.8, 1500), frameon = False)\n",
    "ax.add_artist(ab)\n",
    "\n",
    "# rescale axes to add some more space\n",
    "ax.set_ylim(top = ax.get_ylim()[1]*1.05)\n",
    "ax.set_xlim(right = ax.get_xlim()[1]*1.3)\n",
    "ax.set_xlim(left = ax.get_xlim()[0]*1.5)\n",
    "\n",
    "# set tick label and location\n",
    "ax.set_xticklabels(tick_label, fontsize = 11)\n",
    "ax.set_xticks(label_loc)\n",
    "\n",
    "ax.legend(loc='upper right', bbox_to_anchor=(1, 0.95), fontsize = 13)\n",
    "\n",
    "# axis-label\n",
    "ax.set_ylabel(\"Number of Flights\", fontsize = 14)\n",
    "ax.set_title(\"COVID-19 Impact on All Nippon Airways ( YoY )\", fontsize = 16)\n",
    "\n",
    "# remove spines\n",
    "ax.spines['right'].set_visible(False)\n",
    "ax.spines['top'].set_visible(False)\n",
    "\n",
    "ax.grid(True, axis = 'y', color = 'white', ls = ':')\n",
    "\n",
    "plt.savefig('prob3_visualization.pdf')  \n",
    "\n",
    "plt.show()"
   ]
  },
  {
   "cell_type": "code",
   "execution_count": null,
   "metadata": {},
   "outputs": [],
   "source": []
  }
 ],
 "metadata": {
  "kernelspec": {
   "display_name": "smm635",
   "language": "python",
   "name": "smm635"
  },
  "language_info": {
   "codemirror_mode": {
    "name": "ipython",
    "version": 3
   },
   "file_extension": ".py",
   "mimetype": "text/x-python",
   "name": "python",
   "nbconvert_exporter": "python",
   "pygments_lexer": "ipython3",
   "version": "3.8.5"
  },
  "latex_envs": {
   "LaTeX_envs_menu_present": true,
   "autoclose": false,
   "autocomplete": true,
   "bibliofile": "biblio.bib",
   "cite_by": "apalike",
   "current_citInitial": 1,
   "eqLabelWithNumbers": true,
   "eqNumInitial": 1,
   "hotkeys": {
    "equation": "Ctrl-E",
    "itemize": "Ctrl-I"
   },
   "labels_anchors": false,
   "latex_user_defs": false,
   "report_style_numbering": false,
   "user_envs_cfg": false
  },
  "toc": {
   "base_numbering": 1,
   "nav_menu": {},
   "number_sections": false,
   "sideBar": true,
   "skip_h1_title": false,
   "title_cell": "Table of Contents",
   "title_sidebar": "Contents",
   "toc_cell": false,
   "toc_position": {
    "height": "calc(100% - 180px)",
    "left": "10px",
    "top": "150px",
    "width": "347.6px"
   },
   "toc_section_display": true,
   "toc_window_display": true
  },
  "varInspector": {
   "cols": {
    "lenName": 16,
    "lenType": 16,
    "lenVar": 40
   },
   "kernels_config": {
    "python": {
     "delete_cmd_postfix": "",
     "delete_cmd_prefix": "del ",
     "library": "var_list.py",
     "varRefreshCmd": "print(var_dic_list())"
    },
    "r": {
     "delete_cmd_postfix": ") ",
     "delete_cmd_prefix": "rm(",
     "library": "var_list.r",
     "varRefreshCmd": "cat(var_dic_list()) "
    }
   },
   "types_to_exclude": [
    "module",
    "function",
    "builtin_function_or_method",
    "instance",
    "_Feature"
   ],
   "window_display": false
  }
 },
 "nbformat": 4,
 "nbformat_minor": 4
}
