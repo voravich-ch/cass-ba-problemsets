{
 "cells": [
  {
   "cell_type": "markdown",
   "metadata": {},
   "source": [
    "# Problem Set 4\n",
    "\n",
    "**Context:** Consider the tutorial dataset [Visualizing statistical estimates and fits](https://github.com/simoneSantoni/data-viz-smm635/blob/master/tutorials/statisticalEstimates/_0.ipynb),\n",
    "which concerns the a moderated regression analysis.\n",
    "\n",
    "**Task**: Create **ONE** Matplotlib figure that illustrates the effect of job  \n",
    "*satisfaction on turnover intent as contingent on firm size. The figure should  \n",
    "*contain a maximum of two plots (i.e., ax0 and ax1); a figure with one plot  \n",
    "*could do the job too. The audience is made-up of HR specialists.\n",
    "\n",
    "**Submission**: Submit your solution via email to simone.santoni.1@city.ac.uk.\n",
    "Late submissions (> November 18, 2020) may not be considered for the in-class\n",
    "presentations.\n",
    "\n"
   ]
  },
  {
   "cell_type": "markdown",
   "metadata": {},
   "source": [
    "# Visualizing statistical estimates and fits (Tutorial)"
   ]
  },
  {
   "cell_type": "markdown",
   "metadata": {},
   "source": [
    "This tutorial shows how to visualize interaction effects included in regression\n",
    "models such as:\n",
    "\n",
    "\\begin{equation}\n",
    "  y = \\alpha + \\beta * x + \\gamma * z + \\delta * x * z + \\epsilon\n",
    "\\end{equation}\n",
    "\n",
    "Mainly, we use interaction terms to take into account that the effect of the  \n",
    "independent variable $x$ on the outcome $y$ is contingent on the value of a \n",
    "third variable $z$.\n",
    "\n",
    "Examples:\n",
    "\n",
    "+   the economic value of patents is contingent on the intellectual property\n",
    "    regime of a country/set of countries\n",
    "+   the economic returns of schooling are contingent on the institutional and\n",
    "    cultural environment of a country\n",
    "+   the social influence of a Soundcloud user's suggestions/reposts is contingent \n",
    "    on followership\n",
    "+   the influence of job satisfaction on intent to quit is contingent on the \n",
    "    size of the employer "
   ]
  },
  {
   "cell_type": "markdown",
   "metadata": {},
   "source": [
    "# Setup"
   ]
  },
  {
   "cell_type": "markdown",
   "metadata": {},
   "source": [
    "## Import relevant libraries"
   ]
  },
  {
   "cell_type": "code",
   "execution_count": 1,
   "metadata": {
    "ExecuteTime": {
     "end_time": "2020-11-19T09:58:30.283013Z",
     "start_time": "2020-11-19T09:58:29.297216Z"
    }
   },
   "outputs": [],
   "source": [
    "import os\n",
    "import numpy as np\n",
    "import matplotlib.pyplot as plt\n",
    "from matplotlib import rc\n",
    "import statsmodels.formula.api as smf\n",
    "import pandas as pd"
   ]
  },
  {
   "cell_type": "markdown",
   "metadata": {},
   "source": [
    "## Viz options"
   ]
  },
  {
   "cell_type": "code",
   "execution_count": 2,
   "metadata": {
    "ExecuteTime": {
     "end_time": "2020-11-19T09:58:30.289097Z",
     "start_time": "2020-11-19T09:58:30.285665Z"
    }
   },
   "outputs": [],
   "source": [
    "rc('font',**{'family':'serif','serif':['Helvetica']})\n",
    "rc('text', usetex=True)\n",
    "\n",
    "plt.style.use('fivethirtyeight')"
   ]
  },
  {
   "cell_type": "markdown",
   "metadata": {},
   "source": [
    "# Application"
   ]
  },
  {
   "cell_type": "markdown",
   "metadata": {},
   "source": [
    "## Goal"
   ]
  },
  {
   "cell_type": "markdown",
   "metadata": {},
   "source": [
    "The working hypothesis is that lower levels of job satisfaction ($x$) increases the\n",
    "chances of turnover, i.e., intent to quit ($y$).\n",
    "\n",
    "On top of this, we think the negative relationship between  $x$ and $y$ depends\n",
    "on the size of the employer. The intuition is that large employers have an \n",
    "internal labor market that allows individuals to change job positions (get a\n",
    "better fit with the task) without quitting the employment relation.\n",
    "\n",
    "The **goal** is showing how the relationship between job satisfaction and \n",
    "intent to quit (as estimated via OLS) changes as firm size increases."
   ]
  },
  {
   "cell_type": "markdown",
   "metadata": {},
   "source": [
    "## Data simulation"
   ]
  },
  {
   "cell_type": "markdown",
   "metadata": {},
   "source": [
    "We simulate multiple datasets involving the following variables:\n",
    "\n",
    "+   job satisfaction - the extent to which an employee is happy with his/her job\n",
    "    (let's assume we have Likert scale data; legend: 1 = not at all, 5 = to a \n",
    "    great extent)\n",
    "+   intent to quit - the extent to which an employee considers the possibility \n",
    "    to quit the current job (let's assume we have Likert scale data; legend: 1 \n",
    "    = not at all, 5 = to a great extent)\n",
    "+   age (in years)\n",
    "+   organizational tenure (years spent working for the employer)\n",
    "   \n",
    "Let's assume that all variables have been transformed into z-scores.\n",
    "   \n",
    "Each dataset we simulate reflect the following cohorts of employers:\n",
    "\n",
    "+   micro firms: 1 - 5 employees\n",
    "+   small firms: 6 - 25 employees\n",
    "+   medium firms: 26 - 100 employees\n",
    "+   large firms: 100 - 500 employees\n",
    "+   very large firms: 500 + "
   ]
  },
  {
   "cell_type": "code",
   "execution_count": 3,
   "metadata": {
    "ExecuteTime": {
     "end_time": "2020-11-19T09:58:30.298455Z",
     "start_time": "2020-11-19T09:58:30.291860Z"
    }
   },
   "outputs": [],
   "source": [
    "# set seed\n",
    "np.random.seed(777)\n",
    "\n",
    "# sample size\n",
    "num_samples = 1000\n",
    "\n",
    "# variables' mean \n",
    "mu = np.repeat(0, 4)\n",
    "\n",
    "# names\n",
    "names = ['job_sat', 'int_qui', 'age', 'org_tnr']"
   ]
  },
  {
   "cell_type": "markdown",
   "metadata": {},
   "source": [
    "### Micro firms"
   ]
  },
  {
   "cell_type": "code",
   "execution_count": 4,
   "metadata": {
    "ExecuteTime": {
     "end_time": "2020-11-19T09:58:30.314680Z",
     "start_time": "2020-11-19T09:58:30.303232Z"
    }
   },
   "outputs": [],
   "source": [
    "# the desired covariance matrix.\n",
    "r = np.array([\n",
    "        [  1.00, -0.40, -0.03,  0.11],\n",
    "        [ -0.40,  1.00, -0.05, -0.09],\n",
    "        [ -0.03, -0.05,  1.00,  0.05],\n",
    "        [  0.11, -0.09,  0.05,  1.00]\n",
    "    ])\n",
    "\n",
    "# generate the random samples.\n",
    "df_1_5 = pd.DataFrame(np.random.multivariate_normal(mu, r, size=num_samples),\n",
    "                      columns=names)\n",
    "\n",
    "# expand\n",
    "df_1_5.loc[:, 'cohort'] = 'micro'\n",
    "df_1_5.loc[:, 'firm_size'] = np.random.randint(low=1, high=5, size=num_samples)"
   ]
  },
  {
   "cell_type": "code",
   "execution_count": 5,
   "metadata": {
    "ExecuteTime": {
     "end_time": "2020-11-19T09:58:30.332732Z",
     "start_time": "2020-11-19T09:58:30.316798Z"
    }
   },
   "outputs": [
    {
     "data": {
      "text/html": [
       "<div>\n",
       "<style scoped>\n",
       "    .dataframe tbody tr th:only-of-type {\n",
       "        vertical-align: middle;\n",
       "    }\n",
       "\n",
       "    .dataframe tbody tr th {\n",
       "        vertical-align: top;\n",
       "    }\n",
       "\n",
       "    .dataframe thead th {\n",
       "        text-align: right;\n",
       "    }\n",
       "</style>\n",
       "<table border=\"1\" class=\"dataframe\">\n",
       "  <thead>\n",
       "    <tr style=\"text-align: right;\">\n",
       "      <th></th>\n",
       "      <th>job_sat</th>\n",
       "      <th>int_qui</th>\n",
       "      <th>age</th>\n",
       "      <th>org_tnr</th>\n",
       "      <th>cohort</th>\n",
       "      <th>firm_size</th>\n",
       "    </tr>\n",
       "  </thead>\n",
       "  <tbody>\n",
       "    <tr>\n",
       "      <th>0</th>\n",
       "      <td>-0.180922</td>\n",
       "      <td>-0.712431</td>\n",
       "      <td>0.709782</td>\n",
       "      <td>0.523985</td>\n",
       "      <td>micro</td>\n",
       "      <td>3</td>\n",
       "    </tr>\n",
       "    <tr>\n",
       "      <th>1</th>\n",
       "      <td>-1.351227</td>\n",
       "      <td>0.168387</td>\n",
       "      <td>-1.268555</td>\n",
       "      <td>0.039751</td>\n",
       "      <td>micro</td>\n",
       "      <td>1</td>\n",
       "    </tr>\n",
       "    <tr>\n",
       "      <th>2</th>\n",
       "      <td>2.613672</td>\n",
       "      <td>-0.345493</td>\n",
       "      <td>-0.786313</td>\n",
       "      <td>0.555096</td>\n",
       "      <td>micro</td>\n",
       "      <td>4</td>\n",
       "    </tr>\n",
       "    <tr>\n",
       "      <th>3</th>\n",
       "      <td>0.067424</td>\n",
       "      <td>-0.967287</td>\n",
       "      <td>1.520426</td>\n",
       "      <td>0.433870</td>\n",
       "      <td>micro</td>\n",
       "      <td>2</td>\n",
       "    </tr>\n",
       "    <tr>\n",
       "      <th>4</th>\n",
       "      <td>0.967771</td>\n",
       "      <td>-0.598167</td>\n",
       "      <td>0.088768</td>\n",
       "      <td>1.385375</td>\n",
       "      <td>micro</td>\n",
       "      <td>4</td>\n",
       "    </tr>\n",
       "  </tbody>\n",
       "</table>\n",
       "</div>"
      ],
      "text/plain": [
       "    job_sat   int_qui       age   org_tnr cohort  firm_size\n",
       "0 -0.180922 -0.712431  0.709782  0.523985  micro          3\n",
       "1 -1.351227  0.168387 -1.268555  0.039751  micro          1\n",
       "2  2.613672 -0.345493 -0.786313  0.555096  micro          4\n",
       "3  0.067424 -0.967287  1.520426  0.433870  micro          2\n",
       "4  0.967771 -0.598167  0.088768  1.385375  micro          4"
      ]
     },
     "execution_count": 5,
     "metadata": {},
     "output_type": "execute_result"
    }
   ],
   "source": [
    "df_1_5.head()"
   ]
  },
  {
   "cell_type": "markdown",
   "metadata": {},
   "source": [
    "### Small firms"
   ]
  },
  {
   "cell_type": "code",
   "execution_count": 6,
   "metadata": {
    "ExecuteTime": {
     "end_time": "2020-11-19T09:58:30.346756Z",
     "start_time": "2020-11-19T09:58:30.334393Z"
    }
   },
   "outputs": [],
   "source": [
    "# the desired covariance matrix.\n",
    "r = np.array([\n",
    "        [  1.00, -0.30, -0.03,  0.11],\n",
    "        [ -0.30,  1.00, -0.05, -0.09],\n",
    "        [ -0.03, -0.05,  1.00,  0.05],\n",
    "        [  0.11, -0.09,  0.05,  1.00]\n",
    "    ])\n",
    "\n",
    "# generate the random samples.\n",
    "df_6_25 = pd.DataFrame(np.random.multivariate_normal(mu, r, size=num_samples),\n",
    "                       columns=names)\n",
    "\n",
    "# expand\n",
    "df_6_25.loc[:, 'cohort'] = 'small'\n",
    "df_6_25.loc[:, 'firm_size'] = np.random.randint(low=6,\n",
    "                                                high=25,\n",
    "                                                size=num_samples)"
   ]
  },
  {
   "cell_type": "code",
   "execution_count": 7,
   "metadata": {
    "ExecuteTime": {
     "end_time": "2020-11-19T09:58:30.359630Z",
     "start_time": "2020-11-19T09:58:30.348618Z"
    }
   },
   "outputs": [
    {
     "data": {
      "text/html": [
       "<div>\n",
       "<style scoped>\n",
       "    .dataframe tbody tr th:only-of-type {\n",
       "        vertical-align: middle;\n",
       "    }\n",
       "\n",
       "    .dataframe tbody tr th {\n",
       "        vertical-align: top;\n",
       "    }\n",
       "\n",
       "    .dataframe thead th {\n",
       "        text-align: right;\n",
       "    }\n",
       "</style>\n",
       "<table border=\"1\" class=\"dataframe\">\n",
       "  <thead>\n",
       "    <tr style=\"text-align: right;\">\n",
       "      <th></th>\n",
       "      <th>job_sat</th>\n",
       "      <th>int_qui</th>\n",
       "      <th>age</th>\n",
       "      <th>org_tnr</th>\n",
       "      <th>cohort</th>\n",
       "      <th>firm_size</th>\n",
       "    </tr>\n",
       "  </thead>\n",
       "  <tbody>\n",
       "    <tr>\n",
       "      <th>0</th>\n",
       "      <td>0.021162</td>\n",
       "      <td>0.331526</td>\n",
       "      <td>-0.885398</td>\n",
       "      <td>-1.428262</td>\n",
       "      <td>small</td>\n",
       "      <td>23</td>\n",
       "    </tr>\n",
       "    <tr>\n",
       "      <th>1</th>\n",
       "      <td>-0.824271</td>\n",
       "      <td>1.526203</td>\n",
       "      <td>1.335122</td>\n",
       "      <td>0.015598</td>\n",
       "      <td>small</td>\n",
       "      <td>11</td>\n",
       "    </tr>\n",
       "    <tr>\n",
       "      <th>2</th>\n",
       "      <td>1.251447</td>\n",
       "      <td>-1.406453</td>\n",
       "      <td>-0.036737</td>\n",
       "      <td>-0.883240</td>\n",
       "      <td>small</td>\n",
       "      <td>21</td>\n",
       "    </tr>\n",
       "    <tr>\n",
       "      <th>3</th>\n",
       "      <td>-0.316772</td>\n",
       "      <td>0.939712</td>\n",
       "      <td>0.253895</td>\n",
       "      <td>1.255965</td>\n",
       "      <td>small</td>\n",
       "      <td>15</td>\n",
       "    </tr>\n",
       "    <tr>\n",
       "      <th>4</th>\n",
       "      <td>-0.639822</td>\n",
       "      <td>0.215544</td>\n",
       "      <td>-0.434678</td>\n",
       "      <td>0.672885</td>\n",
       "      <td>small</td>\n",
       "      <td>15</td>\n",
       "    </tr>\n",
       "  </tbody>\n",
       "</table>\n",
       "</div>"
      ],
      "text/plain": [
       "    job_sat   int_qui       age   org_tnr cohort  firm_size\n",
       "0  0.021162  0.331526 -0.885398 -1.428262  small         23\n",
       "1 -0.824271  1.526203  1.335122  0.015598  small         11\n",
       "2  1.251447 -1.406453 -0.036737 -0.883240  small         21\n",
       "3 -0.316772  0.939712  0.253895  1.255965  small         15\n",
       "4 -0.639822  0.215544 -0.434678  0.672885  small         15"
      ]
     },
     "execution_count": 7,
     "metadata": {},
     "output_type": "execute_result"
    }
   ],
   "source": [
    "df_6_25.head()"
   ]
  },
  {
   "cell_type": "markdown",
   "metadata": {},
   "source": [
    "### Medium firms"
   ]
  },
  {
   "cell_type": "code",
   "execution_count": 8,
   "metadata": {
    "ExecuteTime": {
     "end_time": "2020-11-19T09:58:30.376724Z",
     "start_time": "2020-11-19T09:58:30.363256Z"
    }
   },
   "outputs": [],
   "source": [
    "# the desired covariance matrix.\n",
    "r = np.array([\n",
    "        [  1.00, -0.25, -0.03,  0.11],\n",
    "        [ -0.25,  1.00, -0.05, -0.09],\n",
    "        [ -0.03, -0.05,  1.00,  0.05],\n",
    "        [  0.11, -0.09,  0.05,  1.00]\n",
    "    ])\n",
    "\n",
    "# generate the random samples.\n",
    "df_26_100 = pd.DataFrame(np.random.multivariate_normal(mu, r, size=num_samples),\n",
    "                         columns=names)\n",
    "\n",
    "# expand\n",
    "df_26_100.loc[:, 'cohort'] = 'medium'\n",
    "df_26_100.loc[:, 'firm_size'] = np.random.randint(low=26,\n",
    "                                                  high=100,\n",
    "                                                  size=num_samples)"
   ]
  },
  {
   "cell_type": "markdown",
   "metadata": {},
   "source": [
    "### Large firms"
   ]
  },
  {
   "cell_type": "code",
   "execution_count": 9,
   "metadata": {
    "ExecuteTime": {
     "end_time": "2020-11-19T09:58:30.389750Z",
     "start_time": "2020-11-19T09:58:30.378744Z"
    }
   },
   "outputs": [],
   "source": [
    "# the desired covariance matrix.\n",
    "r = np.array([\n",
    "        [  1.00, -0.20, -0.03,  0.11],\n",
    "        [ -0.20,  1.00, -0.05, -0.09],\n",
    "        [ -0.03, -0.05,  1.00,  0.05],\n",
    "        [  0.11, -0.09,  0.05,  1.00]\n",
    "    ])\n",
    "\n",
    "# generate the random samples.\n",
    "df_101_500 = pd.DataFrame(np.random.multivariate_normal(mu, r, size=num_samples),\n",
    "                          columns=names)\n",
    "\n",
    "# expand\n",
    "df_101_500.loc[:, 'cohort'] = 'large'\n",
    "df_101_500.loc[:, 'firm_size'] = np.random.randint(low=101, high=500,\n",
    "                                                size=num_samples)"
   ]
  },
  {
   "cell_type": "markdown",
   "metadata": {},
   "source": [
    "### Very large firms"
   ]
  },
  {
   "cell_type": "code",
   "execution_count": 10,
   "metadata": {
    "ExecuteTime": {
     "end_time": "2020-11-19T09:58:30.400705Z",
     "start_time": "2020-11-19T09:58:30.391365Z"
    }
   },
   "outputs": [],
   "source": [
    "# the desired covariance matrix.\n",
    "r = np.array([\n",
    "        [  1.00, -0.15, -0.03,  0.11],\n",
    "        [ -0.15,  1.00, -0.05, -0.09],\n",
    "        [ -0.03, -0.05,  1.00,  0.05],\n",
    "        [  0.11, -0.09,  0.05,  1.00]\n",
    "    ])\n",
    "\n",
    "# generate the random samples.\n",
    "df_501_ = pd.DataFrame(np.random.multivariate_normal(mu, r, size=num_samples),\n",
    "                       columns=names)\n",
    "\n",
    "# expand\n",
    "df_501_.loc[:, 'cohort'] = 'verylarge'\n",
    "df_501_.loc[:, 'firm_size'] = np.random.randint(low=501, high=2000,\n",
    "                                                size=num_samples)"
   ]
  },
  {
   "cell_type": "markdown",
   "metadata": {},
   "source": [
    "# Data preparation"
   ]
  },
  {
   "cell_type": "code",
   "execution_count": 11,
   "metadata": {
    "ExecuteTime": {
     "end_time": "2020-11-19T09:58:30.432343Z",
     "start_time": "2020-11-19T09:58:30.402124Z"
    }
   },
   "outputs": [
    {
     "name": "stdout",
     "output_type": "stream",
     "text": [
      "<class 'pandas.core.frame.DataFrame'>\n",
      "RangeIndex: 5000 entries, 0 to 4999\n",
      "Data columns (total 4 columns):\n",
      " #   Column     Non-Null Count  Dtype  \n",
      "---  ------     --------------  -----  \n",
      " 0   job_sat    5000 non-null   float64\n",
      " 1   int_qui    5000 non-null   float64\n",
      " 2   firm_size  5000 non-null   int64  \n",
      " 3   cohort     5000 non-null   object \n",
      "dtypes: float64(2), int64(1), object(1)\n",
      "memory usage: 156.4+ KB\n"
     ]
    },
    {
     "data": {
      "text/html": [
       "<div>\n",
       "<style scoped>\n",
       "    .dataframe tbody tr th:only-of-type {\n",
       "        vertical-align: middle;\n",
       "    }\n",
       "\n",
       "    .dataframe tbody tr th {\n",
       "        vertical-align: top;\n",
       "    }\n",
       "\n",
       "    .dataframe thead th {\n",
       "        text-align: right;\n",
       "    }\n",
       "</style>\n",
       "<table border=\"1\" class=\"dataframe\">\n",
       "  <thead>\n",
       "    <tr style=\"text-align: right;\">\n",
       "      <th></th>\n",
       "      <th>job_sat</th>\n",
       "      <th>int_qui</th>\n",
       "      <th>firm_size</th>\n",
       "      <th>cohort</th>\n",
       "    </tr>\n",
       "  </thead>\n",
       "  <tbody>\n",
       "    <tr>\n",
       "      <th>0</th>\n",
       "      <td>-0.180922</td>\n",
       "      <td>-0.712431</td>\n",
       "      <td>3</td>\n",
       "      <td>micro</td>\n",
       "    </tr>\n",
       "    <tr>\n",
       "      <th>1</th>\n",
       "      <td>-1.351227</td>\n",
       "      <td>0.168387</td>\n",
       "      <td>1</td>\n",
       "      <td>micro</td>\n",
       "    </tr>\n",
       "    <tr>\n",
       "      <th>2</th>\n",
       "      <td>2.613672</td>\n",
       "      <td>-0.345493</td>\n",
       "      <td>4</td>\n",
       "      <td>micro</td>\n",
       "    </tr>\n",
       "    <tr>\n",
       "      <th>3</th>\n",
       "      <td>0.067424</td>\n",
       "      <td>-0.967287</td>\n",
       "      <td>2</td>\n",
       "      <td>micro</td>\n",
       "    </tr>\n",
       "    <tr>\n",
       "      <th>4</th>\n",
       "      <td>0.967771</td>\n",
       "      <td>-0.598167</td>\n",
       "      <td>4</td>\n",
       "      <td>micro</td>\n",
       "    </tr>\n",
       "  </tbody>\n",
       "</table>\n",
       "</div>"
      ],
      "text/plain": [
       "    job_sat   int_qui  firm_size cohort\n",
       "0 -0.180922 -0.712431          3  micro\n",
       "1 -1.351227  0.168387          1  micro\n",
       "2  2.613672 -0.345493          4  micro\n",
       "3  0.067424 -0.967287          2  micro\n",
       "4  0.967771 -0.598167          4  micro"
      ]
     },
     "execution_count": 11,
     "metadata": {},
     "output_type": "execute_result"
    }
   ],
   "source": [
    "df = pd.concat([df_1_5, df_6_25, df_26_100, df_101_500, df_501_],\n",
    "               axis=0)\n",
    "\n",
    "# select only necessary columns\n",
    "df = df[['job_sat', 'int_qui', 'firm_size', 'cohort']]\n",
    "\n",
    "df = df.reset_index().drop(columns = 'index')\n",
    "\n",
    "df.info()\n",
    "\n",
    "df.head()"
   ]
  },
  {
   "cell_type": "markdown",
   "metadata": {},
   "source": [
    "# Regression analysis\n",
    "\n",
    "There are two alternatives to carry out the regression analysis of intention to quit on job satisfaction as contingent on firm size:\n",
    "\n",
    "+ Alternative 1: producing 5 models, each of which applies to a certain cohort of firms. This will generate the following key estimates:\n",
    "  - 5 slopes relating job satisfaction to intention to quit [$\\beta_{micro}$, $\\beta_{small}$, ..... ]\n",
    "  - no $\\delta$ / no interaction effect\n",
    "+ Alternative 2: producing one model that operationalizes the equation reported in the very first cell of this notebook. This will generate the following key estimates:\n",
    "  - $\\beta$: the effect of job satisfaction that does not depend on firm size\n",
    "  - $\\delta$: the effect of job satisfaction that depends (i.e., it is contingent) on firm size"
   ]
  },
  {
   "cell_type": "code",
   "execution_count": 12,
   "metadata": {
    "ExecuteTime": {
     "end_time": "2020-11-19T09:58:30.512365Z",
     "start_time": "2020-11-19T09:58:30.434383Z"
    }
   },
   "outputs": [
    {
     "name": "stdout",
     "output_type": "stream",
     "text": [
      "A variable `lm_micro` was created!\n",
      "A variable `estimates_micro` was created!\n",
      "A variable `lm_small` was created!\n",
      "A variable `estimates_small` was created!\n",
      "A variable `lm_medium` was created!\n",
      "A variable `estimates_medium` was created!\n",
      "A variable `lm_large` was created!\n",
      "A variable `estimates_large` was created!\n",
      "A variable `lm_verylarge` was created!\n",
      "A variable `estimates_verylarge` was created!\n"
     ]
    }
   ],
   "source": [
    "# fit models and get necessary coefficients\n",
    "for cohort in df.cohort.unique():\n",
    "    \n",
    "    var_name = '_'.join(['lm', cohort])\n",
    "    \n",
    "    # fit the model\n",
    "    lm = smf.ols('int_qui ~ job_sat', data = df[df['cohort'] == cohort]).fit()\n",
    "    \n",
    "    # create a variable containing the model\n",
    "    vars()[var_name] = lm\n",
    "    print('A variable `{}` was created!'.format(var_name))\n",
    "    \n",
    "    # get confidence intervals\n",
    "    estimates = vars()[var_name].conf_int(alpha = 0.05)\n",
    "\n",
    "    # reindex data\n",
    "    estimates.reset_index(inplace=True)\n",
    "\n",
    "    # rename columns\n",
    "    estimates.rename(columns={'index': 'variable',\n",
    "                              0: 'lower_bound',\n",
    "                              1: 'upper_bound'}, inplace=True)\n",
    "\n",
    "    # recall and attach betas\n",
    "    estimates.loc[:, 'beta'] = list(vars()[var_name].params)\n",
    "\n",
    "    # reindex data\n",
    "    estimates.set_index('variable', inplace=True)\n",
    "    \n",
    "    # create a variable containing the estimates\n",
    "    var_name = '_'.join(['estimates', cohort])\n",
    "    vars()[var_name] = estimates\n",
    "    print('A variable `{}` was created!'.format(var_name))\n"
   ]
  },
  {
   "cell_type": "code",
   "execution_count": 13,
   "metadata": {
    "ExecuteTime": {
     "end_time": "2020-11-19T09:58:30.528790Z",
     "start_time": "2020-11-19T09:58:30.513679Z"
    }
   },
   "outputs": [
    {
     "name": "stdout",
     "output_type": "stream",
     "text": [
      "                            OLS Regression Results                            \n",
      "==============================================================================\n",
      "Dep. Variable:                int_qui   R-squared:                       0.158\n",
      "Model:                            OLS   Adj. R-squared:                  0.157\n",
      "Method:                 Least Squares   F-statistic:                     187.5\n",
      "Date:                Thu, 19 Nov 2020   Prob (F-statistic):           3.13e-39\n",
      "Time:                        16:58:30   Log-Likelihood:                -1333.8\n",
      "No. Observations:                1000   AIC:                             2672.\n",
      "Df Residuals:                     998   BIC:                             2681.\n",
      "Df Model:                           1                                         \n",
      "Covariance Type:            nonrobust                                         \n",
      "==============================================================================\n",
      "                 coef    std err          t      P>|t|      [0.025      0.975]\n",
      "------------------------------------------------------------------------------\n",
      "Intercept     -0.0002      0.029     -0.005      0.996      -0.057       0.057\n",
      "job_sat       -0.4044      0.030    -13.692      0.000      -0.462      -0.346\n",
      "==============================================================================\n",
      "Omnibus:                        0.635   Durbin-Watson:                   2.073\n",
      "Prob(Omnibus):                  0.728   Jarque-Bera (JB):                0.507\n",
      "Skew:                          -0.017   Prob(JB):                        0.776\n",
      "Kurtosis:                       3.105   Cond. No.                         1.03\n",
      "==============================================================================\n",
      "\n",
      "Notes:\n",
      "[1] Standard Errors assume that the covariance matrix of the errors is correctly specified.\n"
     ]
    }
   ],
   "source": [
    "# sample model summary\n",
    "print(lm_micro.summary())"
   ]
  },
  {
   "cell_type": "code",
   "execution_count": 14,
   "metadata": {
    "ExecuteTime": {
     "end_time": "2020-11-19T09:58:30.543343Z",
     "start_time": "2020-11-19T09:58:30.531020Z"
    }
   },
   "outputs": [
    {
     "data": {
      "text/html": [
       "<div>\n",
       "<style scoped>\n",
       "    .dataframe tbody tr th:only-of-type {\n",
       "        vertical-align: middle;\n",
       "    }\n",
       "\n",
       "    .dataframe tbody tr th {\n",
       "        vertical-align: top;\n",
       "    }\n",
       "\n",
       "    .dataframe thead th {\n",
       "        text-align: right;\n",
       "    }\n",
       "</style>\n",
       "<table border=\"1\" class=\"dataframe\">\n",
       "  <thead>\n",
       "    <tr style=\"text-align: right;\">\n",
       "      <th></th>\n",
       "      <th>lower_bound</th>\n",
       "      <th>upper_bound</th>\n",
       "      <th>beta</th>\n",
       "    </tr>\n",
       "    <tr>\n",
       "      <th>variable</th>\n",
       "      <th></th>\n",
       "      <th></th>\n",
       "      <th></th>\n",
       "    </tr>\n",
       "  </thead>\n",
       "  <tbody>\n",
       "    <tr>\n",
       "      <th>Intercept</th>\n",
       "      <td>-0.057214</td>\n",
       "      <td>0.056910</td>\n",
       "      <td>-0.000152</td>\n",
       "    </tr>\n",
       "    <tr>\n",
       "      <th>job_sat</th>\n",
       "      <td>-0.462358</td>\n",
       "      <td>-0.346441</td>\n",
       "      <td>-0.404399</td>\n",
       "    </tr>\n",
       "  </tbody>\n",
       "</table>\n",
       "</div>"
      ],
      "text/plain": [
       "           lower_bound  upper_bound      beta\n",
       "variable                                     \n",
       "Intercept    -0.057214     0.056910 -0.000152\n",
       "job_sat      -0.462358    -0.346441 -0.404399"
      ]
     },
     "execution_count": 14,
     "metadata": {},
     "output_type": "execute_result"
    }
   ],
   "source": [
    "# sample estimates\n",
    "estimates_micro"
   ]
  },
  {
   "cell_type": "markdown",
   "metadata": {},
   "source": [
    "# Visualization"
   ]
  },
  {
   "cell_type": "code",
   "execution_count": 15,
   "metadata": {
    "ExecuteTime": {
     "end_time": "2020-11-19T09:58:31.754861Z",
     "start_time": "2020-11-19T09:58:30.544816Z"
    }
   },
   "outputs": [
    {
     "data": {
      "image/png": "[encoded data removed]",
      "text/plain": [
       "<Figure size 432x288 with 1 Axes>"
      ]
     },
     "metadata": {},
     "output_type": "display_data"
    }
   ],
   "source": [
    "# create figure \n",
    "fig = plt.figure(figsize=(6, 4))\n",
    "\n",
    "# add plot\n",
    "ax = fig.add_subplot(1, 1, 1)\n",
    "\n",
    "colors = ['mediumslateblue', 'mediumblue', 'palevioletred', 'firebrick', 'darkred']\n",
    "\n",
    "for i, cohort in enumerate(df.cohort.unique()):\n",
    "    \n",
    "    var_name = '_'.join(['estimates', cohort])\n",
    "    \n",
    "    # focal variable\n",
    "    pred = vars()[var_name].index[1:]\n",
    "\n",
    "    # data series\n",
    "    x = i\n",
    "    y = vars()[var_name].loc[pred, 'beta']\n",
    "    y_high = vars()[var_name].loc[pred, 'upper_bound']\n",
    "    y_low = vars()[var_name].loc[pred, 'lower_bound']\n",
    "\n",
    "    # plot data\n",
    "    ax.errorbar(x, y, fmt='o',\n",
    "                yerr=np.absolute(y_low - y_high)/2,\n",
    "                elinewidth=1,\n",
    "                markerfacecolor = colors[i],\n",
    "                markeredgecolor = colors[i],\n",
    "                ecolor = colors[i]\n",
    "                )    \n",
    "\n",
    "# set ticks and title\n",
    "\n",
    "ax.set_ylim(-0.5, -0.05)\n",
    "ax.set_xticks(np.arange(len(df.cohort.unique())))\n",
    "ax.set_xticklabels(df.cohort.unique())\n",
    "ax.set_yticks(np.arange(-0.4, -0.1, 0.1))\n",
    "ax.set_ylabel('Estimated regression slope')\n",
    "ax.set_title('Regression Analysis of Intention to Quit on Job Satisfaction')\n",
    "\n",
    "# remove grid\n",
    "ax.grid(axis='x')\n",
    "\n",
    "plt.show()"
   ]
  },
  {
   "cell_type": "code",
   "execution_count": null,
   "metadata": {},
   "outputs": [],
   "source": []
  }
 ],
 "metadata": {
  "kernelspec": {
   "display_name": "smm635",
   "language": "python",
   "name": "smm635"
  },
  "language_info": {
   "codemirror_mode": {
    "name": "ipython",
    "version": 3
   },
   "file_extension": ".py",
   "mimetype": "text/x-python",
   "name": "python",
   "nbconvert_exporter": "python",
   "pygments_lexer": "ipython3",
   "version": "3.8.5"
  },
  "latex_envs": {
   "LaTeX_envs_menu_present": true,
   "autoclose": false,
   "autocomplete": true,
   "bibliofile": "biblio.bib",
   "cite_by": "apalike",
   "current_citInitial": 1,
   "eqLabelWithNumbers": true,
   "eqNumInitial": 1,
   "hotkeys": {
    "equation": "Ctrl-E",
    "itemize": "Ctrl-I"
   },
   "labels_anchors": false,
   "latex_user_defs": false,
   "report_style_numbering": false,
   "user_envs_cfg": false
  },
  "toc": {
   "base_numbering": 1,
   "nav_menu": {},
   "number_sections": true,
   "sideBar": true,
   "skip_h1_title": false,
   "title_cell": "Table of Contents",
   "title_sidebar": "Contents",
   "toc_cell": false,
   "toc_position": {
    "height": "631px",
    "left": "64px",
    "top": "111.133px",
    "width": "346.133px"
   },
   "toc_section_display": true,
   "toc_window_display": true
  },
  "varInspector": {
   "cols": {
    "lenName": 16,
    "lenType": 16,
    "lenVar": 40
   },
   "kernels_config": {
    "python": {
     "delete_cmd_postfix": "",
     "delete_cmd_prefix": "del ",
     "library": "var_list.py",
     "varRefreshCmd": "print(var_dic_list())"
    },
    "r": {
     "delete_cmd_postfix": ") ",
     "delete_cmd_prefix": "rm(",
     "library": "var_list.r",
     "varRefreshCmd": "cat(var_dic_list()) "
    }
   },
   "types_to_exclude": [
    "module",
    "function",
    "builtin_function_or_method",
    "instance",
    "_Feature"
   ],
   "window_display": false
  }
 },
 "nbformat": 4,
 "nbformat_minor": 4
}
